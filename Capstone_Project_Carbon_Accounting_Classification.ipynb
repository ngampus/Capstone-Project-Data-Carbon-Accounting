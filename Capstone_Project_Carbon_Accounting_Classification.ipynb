{
  "nbformat": 4,
  "nbformat_minor": 0,
  "metadata": {
    "colab": {
      "provenance": []
    },
    "kernelspec": {
      "name": "python3",
      "display_name": "Python 3"
    },
    "language_info": {
      "name": "python"
    }
  },
  "cells": [
    {
      "cell_type": "code",
      "execution_count": null,
      "metadata": {
        "id": "X2VyoH-q4cMg"
      },
      "outputs": [],
      "source": [
        "!pip install langchain_community\n",
        "!pip install replicate"
      ]
    },
    {
      "cell_type": "code",
      "source": [
        "from langchain_community.llms import Replicate\n",
        "import os\n",
        "from google.colab import userdata\n",
        "\n",
        "# Set the API token\n",
        "api_token = userdata.get('api_token')\n",
        "os.environ[\"REPLICATE_API_TOKEN\"] = api_token\n",
        "# Model setup\n",
        "model = \"ibm-granite/granite-3.3-8b-instruct\"\n",
        "output = Replicate(\n",
        "model=model,replicate_api_token=api_token,)"
      ],
      "metadata": {
        "id": "RXnThCv88dNs"
      },
      "execution_count": 1,
      "outputs": []
    },
    {
      "cell_type": "code",
      "source": [
        "# prompt: \"\"\"**Role:** You are an expert ESG (Environmental, Social, Governance) analyst specializing in the agribusiness sector, with deep knowledge of the GHG Protocol.\n",
        "# **Task:** Analyze the following text excerpt from a company's sustainability report. Your goal is to classify the activities described into one of three categories: Scope 1, Scope 2, or Scope 3 GHG emissions.\n",
        "# **Definitions:**\n",
        "# - **Scope 1:** Direct GHG emissions from sources owned or controlled by the company. Examples include fuel combustion in company vehicles, emissions from on-site manufacturing processes (like POME treatment), and fertilizer use on owned plantations.\n",
        "# - **Scope 2:** Indirect GHG emissions from the generation of purchased energy (electricity, steam, heat, or cooling).\n",
        "# - **Scope 3:** All other indirect emissions that occur in the company's value chain. Examples include emissions from third-party suppliers (including deforestation), transportation of raw materials and finished products by third parties, and the use of sold products.\n",
        "# **Instructions:**\n",
        "# 1.  Read the provided text carefully.\n",
        "# 2.  Identify the specific activity or initiative being described.\n",
        "# 3.  Determine whether this activity relates to Scope 1, Scope 2, or Scope 3 emissions based on the definitions provided.\n",
        "# 4.  Provide your classification.\n",
        "# 5.  Provide a brief (1-2 sentence) justification for your classification, quoting the specific phrase from the text that supports your decision.\n",
        "# **Output Format:**\n",
        "# - Classification:\n",
        "# - Justification:\n",
        "# **Text to Analyze:**\n",
        "# ---\n",
        "# {text_to_analyze}\n",
        "# ---\n",
        "# \"\"\"\n",
        "# # --- Text for Analysis ---\n",
        "# # This is the text excerpt you want the model to classify.\n",
        "# # Example from a sustainability report.[1]\n",
        "# text_to_analyze = \"Composts POME in aerated bunker composters at three mills, achieving up to an 80% reduction in methane emissions compared to conventional anaerobic composting.\"\n",
        "# # --- Execution ---\n",
        "# # Combine the prompt template and the text to create the final input for the model.\n",
        "# final_input = basic_prompt_tem\n",
        "\n",
        "basic_prompt_template = \"\"\"**Role:** You are an expert ESG (Environmental, Social, Governance) analyst specializing in the agribusiness sector, with deep knowledge of the GHG Protocol.\n",
        "**Task:** Analyze the following text excerpt from a company's sustainability report. Your goal is to classify the activities described into one of three categories: Scope 1, Scope 2, or Scope 3 GHG emissions.\n",
        "**Definitions:**\n",
        "- **Scope 1:** Direct GHG emissions from sources owned or controlled by the company. Examples include fuel combustion in company vehicles, emissions from on-site manufacturing processes (like POME treatment), and fertilizer use on owned plantations.\n",
        "- **Scope 2:** Indirect GHG emissions from the generation of purchased energy (electricity, steam, heat, or cooling).\n",
        "- **Scope 3:** All other indirect emissions that occur in the company's value chain. Examples include emissions from third-party suppliers (including deforestation), transportation of raw materials and finished products by third parties, and the use of sold products.\n",
        "**Instructions:**\n",
        "1.  Read the provided text carefully.\n",
        "2.  Identify the specific activity or initiative being described.\n",
        "3.  Determine whether this activity relates to Scope 1, Scope 2, or Scope 3 emissions based on the definitions provided.\n",
        "4.  Provide your classification.\n",
        "5.  Provide a brief (1-2 sentence) justification for your classification, quoting the specific phrase from the text that supports your decision.\n",
        "**Output Format:**\n",
        "- Classification:\n",
        "- Justification:\n",
        "**Text to Analyze:**\n",
        "---\n",
        "{text_to_analyze}\n",
        "---\n",
        "\"\"\"\n",
        "\n",
        "# --- Text for Analysis ---\n",
        "# This is the text excerpt you want the model to classify.\n",
        "# Example from a sustainability report.[1]\n",
        "text_to_analyze = \"Composts POME in aerated bunker composters at three mills, achieving up to an 80% reduction in methane emissions compared to conventional anaerobic composting.\"\n",
        "\n",
        "# --- Execution ---\n",
        "# Combine the prompt template and the text to create the final input for the model.\n",
        "final_input = basic_prompt_template.format(text_to_analyze=text_to_analyze)\n",
        "\n",
        "print(output.invoke(final_input))"
      ],
      "metadata": {
        "id": "4RcYOpzvHeVQ",
        "outputId": "0ea4573a-22fc-45c2-f1dc-d8540eeaee26",
        "colab": {
          "base_uri": "https://localhost:8080/"
        }
      },
      "execution_count": 5,
      "outputs": [
        {
          "output_type": "stream",
          "name": "stdout",
          "text": [
            "- Classification: Scope 1\n",
            "- Justification: \"Composts POME in aerated bunker composters at three mills\" indicates that the company is directly managing and reducing emissions from a process (POME treatment) on its own property, which falls under Scope 1 emissions. This is because the emissions are from sources owned or controlled by the company.\n"
          ]
        }
      ]
    },
    {
      "cell_type": "code",
      "source": [
        "# prompt: # --- Prompt Definition ---\n",
        "# # This is the refined prompt, which includes specific, in-domain examples\n",
        "# # to guide the model's classification.\n",
        "refined_prompt_template = \"\"\"**Role:** You are an expert ESG (Environmental, Social, Governance) analyst specializing in the Indonesian palm oil sector, with deep knowledge of the GHG Protocol and its application to complex agricultural supply chains.\n",
        "**Task:** Analyze the following text excerpt from a company's sustainability report. Your goal is to classify the activities described into one of three categories: Scope 1, Scope 2, or Scope 3 GHG emissions. Pay close attention to the source of the emission and the company's level of operational control.\n",
        "**Definitions:**\n",
        "- **Scope 1:** Direct GHG emissions from sources owned or controlled by the company. (e.g., mill effluent, company fleet, on-site energy generation from biomass).\n",
        "- **Scope 2:** Indirect GHG emissions from purchased electricity, steam, heat, or cooling.\n",
        "- **Scope 3:** All other indirect emissions in the value chain. This is the most critical category for palm oil and includes emissions from third-party FFB suppliers, deforestation in the supply chain (land-use change), production of purchased fertilizers/pesticides, and third-party logistics.\n",
        "**Instructions:**\n",
        "1.  Carefully analyze the provided text.\n",
        "2.  Classify the activity into Scope 1, 2, or 3.\n",
        "3.  Provide a concise justification, quoting the key evidence from the text.\n",
        "4.  Follow the examples below to understand the required level of nuance.\n",
        "**--- EXAMPLES ---**\n",
        "**Example 1:**\n",
        "*   **Text:** \"The installation of methane capture facilities at our palm oil mills reduces our GHG emissions by hundreds of thousands of tons of carbon dioxide equivalent (tCO2e) every year.\"\n",
        "*   **Output:**\n",
        "    *   Classification: Scope 1\n",
        "    *   Justification: The activity involves capturing methane from the company's \"own palm oil mills,\" which are sources it directly owns and controls.\n",
        "**Example 2:**\n",
        "*   **Text:** \"To ensure\n",
        "\n",
        "sustainable palm oil production, we are actively engaging with our third-party fresh fruit bunch (FFB) suppliers on sustainable land management practices.\"\n",
        "*   **Output:**\n",
        "    *   Classification: Scope 3\n",
        "    *   Justification: The activity involves \"engaging with our third-party fresh fruit bunch (FFB) suppliers,\" which are external entities in the company's value chain, not directly owned or controlled by the company.\n",
        "**Example 3:**\n",
        "*   **Text:** \"Our logistics team has optimized transportation routes for finished goods, leading to a significant decrease in fuel consumption from shipping to our distribution centers. This primarily involves our own fleet of trucks.\"\n",
        "*   **Output:**\n",
        "    *   Classification: Scope 1\n",
        "    *   Justification: The text explicitly states the activity \"involves our own fleet of trucks,\" which are sources directly owned and controlled by the company.\n",
        "**Example 4:**\n",
        "*   **Text:** \"We are sourcing 50% of our electricity from certified renewable sources for our head office operations this year.\"\n",
        "*   **Output:**\n",
        "    *   Classification: Scope 2\n",
        "    *   Justification: The activity involves \"sourcing ... electricity,\" which falls under the category of indirect emissions from purchased energy.\n",
        "**--- Text to Analyze ---**\n",
        "{text_to_analyze}\n",
        "---\n",
        "\"\"\"\n",
        "\n",
        "# --- Text for Analysis ---\n",
        "# This is the text excerpt you want the model to classify.\n",
        "# Example from a sustainability report.[1]\n",
        "text_to_analyze = \"Composts POME in aerated bunker composters at three mills, achieving up to an 80% reduction in methane emissions compared to conventional anaerobic composting.\"\n",
        "\n",
        "# --- Execution ---\n",
        "# Combine the prompt template and the text to create the final input for the model.\n",
        "final_input = refined_prompt_template.format(text_to_analyze=text_to_analyze)\n",
        "\n",
        "print(output.invoke(final_input))\n"
      ],
      "metadata": {
        "id": "S7fv0SGiIFpl",
        "outputId": "11ece16b-f408-4232-95a9-6a33464527e3",
        "colab": {
          "base_uri": "https://localhost:8080/"
        }
      },
      "execution_count": 8,
      "outputs": [
        {
          "output_type": "stream",
          "name": "stdout",
          "text": [
            "**Output:**\n",
            "\n",
            "*   **Classification:** Scope 1\n",
            "    *   **Justification:** The text describes \"composts POME (Palm Oil Mill Effluent) in aerated bunker composters at three mills.\" The company directly owns and controls these mills, and the activity of composting POME directly reduces methane emissions from their own operations. This falls under Scope 1 emissions as it involves a direct source of emissions managed and controlled by the company.\n",
            "\n",
            "This classification is based on the company's control over the composting process at their own mills, which directly mitigates emissions originating from their operational activities.\n"
          ]
        }
      ]
    },
    {
      "cell_type": "code",
      "source": [
        "summarization_prompt_template = \"\"\"**Role:** You are a strategic advisor for a global sustainability consultancy, tasked with preparing a briefing note for a client entering the palm oil sector.\n",
        "**Task:** Based on the provided documents (a corporate report excerpt, an industry emissions analysis, and an investigative report), synthesize a 300-word executive summary of the primary challenges and opportunities for decarbonization in the Indonesian palm oil sector.\n",
        "**Instructions:**\n",
        "1.  Read all three documents to understand the corporate, quantitative, and critical perspectives.\n",
        "2.  Identify the single largest source of GHG emissions for the sector as described in the documents.\n",
        "3.  Identify the main operational and supply chain challenges that hinder the reduction of these emissions.\n",
        "4.  Identify the key strategic levers or high-impact opportunities for emission reductions that are mentioned across the documents.\n",
        "5.  Synthesize these points into a coherent, balanced, and concise summary that acknowledges the complexities and contradictions presented in the source materials.\n",
        "**Output Format:**\n",
        "[Executive Summary Title]\n",
        "\n",
        "[Executive Summary Text]\n",
        "\n",
        "**Documents to Synthesize:**\n",
        "---\n",
        "{document_1}\n",
        "---\n",
        "{document_2}\n",
        "---\n",
        "{document_3}\n",
        "---\n",
        "\"\"\"\n",
        "\n",
        "# Define the content of the three documents\n",
        "document_1 = \"\"\"Our decarbonisation strategy focuses on three main areas: Land Use and Carbon Removals, Renewable Energy and Energy Efficiency, and Supplier Engagement. Most of our emissions come from beyond our direct control – which is exactly why supplier engagement is key. We're working to understand the emissions impacts of our suppliers and continue sustainable sourcing from NDPE-compliant suppliers.\"\"\"\n",
        "\n",
        "document_2 = \"\"\"We found that industrial palm oil production in Indonesia emitted an annual average of 220 million tonnes of carbon dioxide equivalent between 2015 and 2022. This amounts to almost a fifth of Indonesia's total annual emissions. Even though only 14% of palm oil plantations in Indonesia are on carbon-rich peatlands, peatland subsidence and fires on drained peatlands were responsible for nearly 92% of the palm oil sector's annual GHG emissions.\"\"\"\n",
        "\n",
        "document_3 = \"\"\"While large corporations highlight commitments to No Deforestation, No Peat, No Exploitation (NDPE) policies, the reality on the ground for many smallholders and even some larger producers remains challenging. Lack of technical knowledge and financial resources for implementing sustainable practices, coupled with complex land tenure issues and the pressure for rapid land clearing, continue to drive emissions, particularly from peatland conversion and poor fire management.\"\"\"\n",
        "\n",
        "# Combine the prompt template and documents to create the final input\n",
        "final_input = summarization_prompt_template.format(\n",
        "    document_1=document_1,\n",
        "    document_2=document_2,\n",
        "    document_3=document_3\n",
        ")\n",
        "\n",
        "# Invoke the model\n",
        "print(output.invoke(final_input))"
      ],
      "metadata": {
        "id": "zEWXwKzZKkR2",
        "outputId": "5124f8ff-b521-474a-91ea-3dc025a99644",
        "colab": {
          "base_uri": "https://localhost:8080/"
        }
      },
      "execution_count": 9,
      "outputs": [
        {
          "output_type": "stream",
          "name": "stdout",
          "text": [
            "**Executive Summary Title:** Decarbonization Challenges and Opportunities in the Indonesian Palm Oil Sector\n",
            "\n",
            "The Indonesian palm oil sector faces significant challenges in decarbonization, primarily driven by greenhouse gas (GHG) emissions from industrial activities, particularly peatland subsidence and fires on drained peatlands, which account for approximately 92% of the sector's annual emissions. Despite corporate commitments to No Deforestation, No Peat, No Exploitation (NDPE) policies, practical implementation remains elusive for many smallholders and even some larger producers.\n",
            "\n",
            "The largest source of GHG emissions stems from land-use changes, especially the conversion of peatlands for oil palm plantations. This process not only releases substantial carbon but also exacerbates environmental degradation through peatland subsidence and uncontrolled fires. The complex interplay of insufficient technical knowledge, limited financial resources, intricate land tenure systems, and pressure for rapid land clearing among producers perpetuates these emissions.\n",
            "\n",
            "Operational challenges include the lack of standardized monitoring and verification of emissions across the supply chain, hindering transparency and accountability. Supply chain issues are compounded by the difficulty in enforcing sustainable practices among smallholders, many of whom operate on a subsistence level and lack the capacity for rigorous compliance with NDPE standards.\n",
            "\n",
            "Strategic opportunities for emission reduction are multifaceted. First, enhancing supplier engagement and capacity building for sustainable practices among smallholders is crucial. This involves providing technical support, financial incentives, and clear land tenure rights to facilitate the adoption of sustainable land management. Second, investing in renewable energy and energy efficiency measures across plantations can significantly reduce operational emissions. Lastly, leveraging technology for precision agriculture and real-time monitoring of peatland conditions can mitigate risks associated with peatland degradation and fires.\n",
            "\n",
            "In conclusion, decarbonizing the Indonesian palm oil sector requires a holistic approach addressing both operational efficiencies and supply chain sustainability. While the path is complex, with notable contradictions between corporate policies and on-ground realities, strategic levers focusing on\n"
          ]
        }
      ]
    }
  ]
}